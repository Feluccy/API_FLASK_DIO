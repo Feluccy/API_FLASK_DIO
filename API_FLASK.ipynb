{
  "nbformat": 4,
  "nbformat_minor": 0,
  "metadata": {
    "colab": {
      "provenance": [],
      "authorship_tag": "ABX9TyO13VgdRtm+RqKhVjf4Gw4d",
      "include_colab_link": true
    },
    "kernelspec": {
      "name": "python3",
      "display_name": "Python 3"
    },
    "language_info": {
      "name": "python"
    }
  },
  "cells": [
    {
      "cell_type": "markdown",
      "metadata": {
        "id": "view-in-github",
        "colab_type": "text"
      },
      "source": [
        "<a href=\"https://colab.research.google.com/github/Feluccy/API_FLASK_DIO/blob/main/API_FLASK.ipynb\" target=\"_parent\"><img src=\"https://colab.research.google.com/assets/colab-badge.svg\" alt=\"Open In Colab\"/></a>"
      ]
    },
    {
      "cell_type": "code",
      "source": [
        "!pip install fastapi nest-asyncio pyngrok uvicorn\n",
        "\n",
        ""
      ],
      "metadata": {
        "colab": {
          "base_uri": "https://localhost:8080/"
        },
        "id": "qOjnSMNe_Wei",
        "outputId": "49d484cc-d2bc-4946-b41f-7470a31170ef"
      },
      "execution_count": 2,
      "outputs": [
        {
          "output_type": "stream",
          "name": "stdout",
          "text": [
            "Requirement already satisfied: fastapi in /usr/local/lib/python3.10/dist-packages (0.104.1)\n",
            "Requirement already satisfied: nest-asyncio in /usr/local/lib/python3.10/dist-packages (1.5.8)\n",
            "Requirement already satisfied: pyngrok in /usr/local/lib/python3.10/dist-packages (7.0.0)\n",
            "Requirement already satisfied: uvicorn in /usr/local/lib/python3.10/dist-packages (0.24.0.post1)\n",
            "Requirement already satisfied: anyio<4.0.0,>=3.7.1 in /usr/local/lib/python3.10/dist-packages (from fastapi) (3.7.1)\n",
            "Requirement already satisfied: pydantic!=1.8,!=1.8.1,!=2.0.0,!=2.0.1,!=2.1.0,<3.0.0,>=1.7.4 in /usr/local/lib/python3.10/dist-packages (from fastapi) (1.10.13)\n",
            "Requirement already satisfied: starlette<0.28.0,>=0.27.0 in /usr/local/lib/python3.10/dist-packages (from fastapi) (0.27.0)\n",
            "Requirement already satisfied: typing-extensions>=4.8.0 in /usr/local/lib/python3.10/dist-packages (from fastapi) (4.8.0)\n",
            "Requirement already satisfied: PyYAML in /usr/local/lib/python3.10/dist-packages (from pyngrok) (6.0.1)\n",
            "Requirement already satisfied: click>=7.0 in /usr/local/lib/python3.10/dist-packages (from uvicorn) (8.1.7)\n",
            "Requirement already satisfied: h11>=0.8 in /usr/local/lib/python3.10/dist-packages (from uvicorn) (0.14.0)\n",
            "Requirement already satisfied: idna>=2.8 in /usr/local/lib/python3.10/dist-packages (from anyio<4.0.0,>=3.7.1->fastapi) (3.4)\n",
            "Requirement already satisfied: sniffio>=1.1 in /usr/local/lib/python3.10/dist-packages (from anyio<4.0.0,>=3.7.1->fastapi) (1.3.0)\n",
            "Requirement already satisfied: exceptiongroup in /usr/local/lib/python3.10/dist-packages (from anyio<4.0.0,>=3.7.1->fastapi) (1.1.3)\n"
          ]
        }
      ]
    },
    {
      "cell_type": "code",
      "source": [
        "import pandas as pd\n",
        "import json\n",
        ""
      ],
      "metadata": {
        "id": "82jq61jY_d1H"
      },
      "execution_count": 3,
      "outputs": []
    },
    {
      "cell_type": "code",
      "source": [
        "base_dados_xlsx = pd.read_excel('/content/Excel_data_Dio.xlsx')\n",
        "print(base_dados_xlsx)"
      ],
      "metadata": {
        "colab": {
          "base_uri": "https://localhost:8080/"
        },
        "id": "TNzBbs1o_uWT",
        "outputId": "1c09ecb0-0a40-4c94-8d58-2a1fbccdc454"
      },
      "execution_count": 4,
      "outputs": [
        {
          "output_type": "stream",
          "name": "stdout",
          "text": [
            "  Clientes - Dental Health        Unnamed: 1 Unnamed: 2 Unnamed: 3 Unnamed: 4\n",
            "0                      NaN               NaN        NaN        NaN        NaN\n",
            "1                   Number         Full_name        Age       Sexo     Bairro\n",
            "2                        1        Yuri Costa         30          M   Ipiranga\n",
            "3                        2   Fernanda Santos         29          F    Pompeia\n",
            "4                        3  Javier Francisco         24          M       Lapa\n",
            "5                        4      Helena Lopez         26          F     Centro\n",
            "6                        5        Gael Matos         19          M    Santana\n"
          ]
        }
      ]
    },
    {
      "cell_type": "code",
      "source": [
        "base_dados_json = base_dados_xlsx.to_json(orient='records')\n",
        "print(base_dados_json)"
      ],
      "metadata": {
        "colab": {
          "base_uri": "https://localhost:8080/"
        },
        "id": "cknI5dODAe2q",
        "outputId": "40def2be-362d-4a25-c874-85ee6dc5edd5"
      },
      "execution_count": 5,
      "outputs": [
        {
          "output_type": "stream",
          "name": "stdout",
          "text": [
            "[{\"Clientes - Dental Health\":null,\"Unnamed: 1\":null,\"Unnamed: 2\":null,\"Unnamed: 3\":null,\"Unnamed: 4\":null},{\"Clientes - Dental Health\":\"Number\",\"Unnamed: 1\":\"Full_name\",\"Unnamed: 2\":\"Age\",\"Unnamed: 3\":\"Sexo\",\"Unnamed: 4\":\"Bairro\"},{\"Clientes - Dental Health\":1,\"Unnamed: 1\":\"Yuri Costa\",\"Unnamed: 2\":30,\"Unnamed: 3\":\"M\",\"Unnamed: 4\":\"Ipiranga\"},{\"Clientes - Dental Health\":2,\"Unnamed: 1\":\"Fernanda Santos\",\"Unnamed: 2\":29,\"Unnamed: 3\":\"F\",\"Unnamed: 4\":\"Pompeia\"},{\"Clientes - Dental Health\":3,\"Unnamed: 1\":\"Javier Francisco\",\"Unnamed: 2\":24,\"Unnamed: 3\":\"M\",\"Unnamed: 4\":\"Lapa\"},{\"Clientes - Dental Health\":4,\"Unnamed: 1\":\"Helena Lopez\",\"Unnamed: 2\":26,\"Unnamed: 3\":\"F\",\"Unnamed: 4\":\"Centro\"},{\"Clientes - Dental Health\":5,\"Unnamed: 1\":\"Gael Matos\",\"Unnamed: 2\":19,\"Unnamed: 3\":\"M\",\"Unnamed: 4\":\"Santana\"}]\n"
          ]
        }
      ]
    },
    {
      "cell_type": "code",
      "source": [
        "from fastapi import FastAPI\n",
        "import nest_asyncio\n",
        "from pyngrok import ngrok\n",
        "import uvicorn\n",
        ""
      ],
      "metadata": {
        "id": "OpswzDiaAqRj"
      },
      "execution_count": 6,
      "outputs": []
    },
    {
      "cell_type": "code",
      "source": [
        "app = FastAPI()\n",
        "@app.get('/index')\n",
        "async def home():\n",
        "  return base_dados_json\n",
        "\n",
        "ngrok_tunnel = ngrok.connect(8000)\n",
        "print(f\"Public Url:{ngrok_tunnel.public_url}/index\")\n",
        "nest_asyncio.apply()\n",
        "uvicorn.run(app,port=8000)\n",
        ""
      ],
      "metadata": {
        "colab": {
          "base_uri": "https://localhost:8080/"
        },
        "id": "W3P1YO6LAuz0",
        "outputId": "c6b660f6-73b6-4bcc-eaab-418ee8297318"
      },
      "execution_count": null,
      "outputs": [
        {
          "output_type": "stream",
          "name": "stdout",
          "text": []
        },
        {
          "output_type": "stream",
          "name": "stderr",
          "text": [
            "WARNING:pyngrok.process.ngrok:t=2023-11-12T14:51:02+0000 lvl=warn msg=\"ngrok config file found at legacy location, move to XDG location\" xdg_path=/root/.config/ngrok/ngrok.yml legacy_path=/root/.ngrok2/ngrok.yml\n"
          ]
        },
        {
          "output_type": "stream",
          "name": "stdout",
          "text": [
            "Public Url:https://80a0-34-72-124-164.ngrok.io/index\n"
          ]
        },
        {
          "output_type": "stream",
          "name": "stderr",
          "text": [
            "INFO:     Started server process [278]\n",
            "INFO:     Waiting for application startup.\n",
            "INFO:     Application startup complete.\n",
            "INFO:     Uvicorn running on http://127.0.0.1:8000 (Press CTRL+C to quit)\n"
          ]
        }
      ]
    }
  ]
}